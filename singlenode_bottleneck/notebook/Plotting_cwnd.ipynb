{
 "cells": [
  {
   "cell_type": "code",
   "execution_count": 53,
   "metadata": {},
   "outputs": [],
   "source": [
    "%matplotlib inline\n",
    "\n",
    "import numpy as np\n",
    "import pandas as pd\n",
    "from collections import OrderedDict\n",
    "import matplotlib.pyplot as plt\n",
    "from datetime import timedelta"
   ]
  },
  {
   "cell_type": "code",
   "execution_count": 54,
   "metadata": {},
   "outputs": [],
   "source": [
    "folder = \"10G_AFQ1000/\""
   ]
  },
  {
   "cell_type": "code",
   "execution_count": 55,
   "metadata": {},
   "outputs": [],
   "source": [
    "def read_win_file(dir, file):\n",
    "    col = [\"time\", \"cwnd\"]\n",
    "    df = pd.read_csv(dir+file, sep = ' ', header = None)\n",
    "    df.columns = col\n",
    "    return df"
   ]
  },
  {
   "cell_type": "code",
   "execution_count": 56,
   "metadata": {},
   "outputs": [],
   "source": [
    "flow_0 = read_win_file(folder, \"WinFile0\")\n",
    "flow_1 = read_win_file(folder, \"WinFile1\")\n",
    "flow_2 = read_win_file(folder, \"WinFile2\")\n",
    "flow_3 = read_win_file(folder, \"WinFile3\")"
   ]
  },
  {
   "cell_type": "code",
   "execution_count": 59,
   "metadata": {},
   "outputs": [
    {
     "data": {
      "text/plain": [
       "0.0         1.000\n",
       "0.1       134.439\n",
       "0.2       134.439\n",
       "0.3         1.000\n",
       "0.4         1.000\n",
       "0.5         1.000\n",
       "0.6         1.000\n",
       "0.7         1.000\n",
       "0.8         1.000\n",
       "0.9         1.000\n",
       "1.0         1.000\n",
       "1.1         1.000\n",
       "1.2         1.000\n",
       "1.3         1.000\n",
       "1.4         1.000\n",
       "1.5         1.000\n",
       "1.6         1.000\n",
       "1.7         1.000\n",
       "1.8         1.000\n",
       "1.9         1.000\n",
       "2.0         1.000\n",
       "2.1         1.000\n",
       "2.2         1.000\n",
       "2.3         1.000\n",
       "2.4         1.000\n",
       "2.5         1.000\n",
       "2.6         1.000\n",
       "2.7         1.000\n",
       "2.8         1.000\n",
       "2.9         1.000\n",
       "           ...   \n",
       "2095.6      1.000\n",
       "2095.7      1.000\n",
       "2095.8      1.000\n",
       "2095.9      1.000\n",
       "2096.0      1.000\n",
       "2096.1      1.000\n",
       "2096.2      1.000\n",
       "2096.3      1.000\n",
       "2096.4      1.000\n",
       "2096.5      1.000\n",
       "2096.6      1.000\n",
       "2096.7      1.000\n",
       "2096.8      1.000\n",
       "2096.9      1.000\n",
       "2097.0      1.000\n",
       "2097.1      1.000\n",
       "2097.2      1.000\n",
       "2097.3      1.000\n",
       "2097.4      1.000\n",
       "2097.5      1.000\n",
       "2097.6      1.000\n",
       "2097.7      1.000\n",
       "2097.8      1.000\n",
       "2097.9      1.000\n",
       "2098.0      1.000\n",
       "2098.1      1.000\n",
       "2098.2      1.000\n",
       "2098.3      1.000\n",
       "2098.4      1.000\n",
       "2098.5        NaN\n",
       "Length: 20986, dtype: float64"
      ]
     },
     "execution_count": 59,
     "metadata": {},
     "output_type": "execute_result"
    }
   ],
   "source": [
    "res_0 = flow_0[['cwnd']].unstack()['cwnd'].T\n",
    "res_0.index = res_0.index * 0.1\n",
    "\n",
    "res_1 = flow_1[['cwnd']].unstack()['cwnd'].T\n",
    "res_1.index = res_1.index * 0.1\n",
    "\n",
    "res_2 = flow_2[['cwnd']].unstack()['cwnd'].T\n",
    "res_2.index = res_2.index * 0.1\n",
    "\n",
    "res_3 = flow_3[['cwnd']].unstack()['cwnd'].T\n",
    "res_3.index = res_3.index * 0.1\n",
    "\n",
    "res_0"
   ]
  },
  {
   "cell_type": "code",
   "execution_count": 61,
   "metadata": {},
   "outputs": [
    {
     "data": {
      "image/png": "[encoded data removed]",
      "text/plain": [
       "<Figure size 864x216 with 1 Axes>"
      ]
     },
     "metadata": {
      "needs_background": "light"
     },
     "output_type": "display_data"
    }
   ],
   "source": [
    "plt.xlabel('time')\n",
    "plt.ylabel('cwnd')\n",
    "plt.title(\"Congestion Window\")\n",
    "\n",
    "res_0[0:10].plot(kind='line', legend=True, title='Congestion Window', figsize=(12,3), label = 'Flow0')\n",
    "res_1.plot(kind='line', legend=True, title='Congestion Window', figsize=(12,3), label = 'Flow1')\n",
    "res_2.plot(kind='line', legend=True, title='Congestion Window', figsize=(12,3), label = 'Flow2')\n",
    "#res_3.plot(kind='line', legend=True, title='Congestion Window', figsize=(12,3), label = 'Flow3')\n",
    "\n",
    "\n",
    "plt.show()"
   ]
  },
  {
   "cell_type": "code",
   "execution_count": null,
   "metadata": {},
   "outputs": [],
   "source": []
  }
 ],
 "metadata": {
  "kernelspec": {
   "display_name": "Python 3",
   "language": "python",
   "name": "python3"
  },
  "language_info": {
   "codemirror_mode": {
    "name": "ipython",
    "version": 3
   },
   "file_extension": ".py",
   "mimetype": "text/x-python",
   "name": "python",
   "nbconvert_exporter": "python",
   "pygments_lexer": "ipython3",
   "version": "3.6.9"
  }
 },
 "nbformat": 4,
 "nbformat_minor": 2
}

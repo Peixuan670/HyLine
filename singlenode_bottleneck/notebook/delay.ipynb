{
 "cells": [
  {
   "cell_type": "code",
   "execution_count": null,
   "metadata": {},
   "outputs": [],
   "source": [
    "%matplotlib inline\n",
    "\n",
    "import numpy as np\n",
    "import pandas as pd\n",
    "from collections import OrderedDict\n",
    "import matplotlib.pyplot as plt\n",
    "from IPython.display import display, HTML"
   ]
  },
  {
   "cell_type": "code",
   "execution_count": null,
   "metadata": {},
   "outputs": [],
   "source": [
    "class DelayAnalysis:\n",
    "\n",
    "    def __init__(self, folder, file):\n",
    "        self.raw_data = self.read_out_tr(folder, file)\n",
    "        self.tcp_pkt = self.get_tcp_packets(self.raw_data)\n",
    "        history = self.tcp_pkt.groupby('pkt_id')\n",
    "        self.duration = (history['time'].last() - history['time'].first()) * 1e6\n",
    "        \n",
    "    def read_out_tr(self, dir, file):\n",
    "        col = [\"events\", \"time\", \"from_node\", \"to_node\", \"pkt_type\", \"pkt_size\", \"flags\", \"fid\", \"src_addr\", \"dst_addr\", \"seq_num\", \"pkt_id\"]\n",
    "        df = pd.read_csv(dir+file, sep = ' ', header = None)\n",
    "        df.columns = col\n",
    "        return df\n",
    "    \n",
    "    def get_tcp_packets(self, df):\n",
    "        df_out = df.loc[df[\"pkt_type\"].isin([\"tcp\"])]\n",
    "        return df_out\n",
    "    \n",
    "    def get_pkt_detail_by_pktid(self, id):\n",
    "        return self.tcp_pkt[self.tcp_pkt['pkt_id'] == id]\n",
    "    \n",
    "    def dropped_pkt_and_id(self):\n",
    "        history = self.tcp_pkt.groupby('pkt_id')\n",
    "        dropped_pkt_id = (history['events'].last() == 'd')\n",
    "        dropped_pkt_id = dropped_pkt_id[dropped_pkt_id]\n",
    "        dropped = self.tcp_pkt[self.tcp_pkt.pkt_id.isin(dropped_pkt_id.index)]\n",
    "        dropped.set_index(['pkt_id', dropped.index], inplace = True)\n",
    "        return dropped, dropped_pkt_id.index.tolist()\n",
    "    \n",
    "    def print_pkt_delay(self, rtt, title=None):\n",
    "        # us\n",
    "        duration = self.duration\n",
    "        drop_id = self.dropped_pkt_and_id()[1]\n",
    "        #plt.figure(figsize=(20, 8))\n",
    "        plt.scatter(duration.index, duration, label='received')\n",
    "        plt.xlabel('pkt_id')\n",
    "        plt.ylabel('delay(us)')\n",
    "        plt.axhline(y=rtt/2, color='g', linestyle='-')\n",
    "        plt.scatter(duration[drop_id].index, duration[drop_id], color='r', label='drop')\n",
    "        plt.legend()\n",
    "        plt.title(title)\n",
    "        plt.show()\n",
    "        \n",
    "    def filter_by_delay(self, boolFunc):\n",
    "        duration = self.duration\n",
    "        filter_pkt = self.tcp_pkt[self.tcp_pkt.pkt_id.isin(duration[boolFunc].index)]\n",
    "        filter_pkt.set_index(['pkt_id', filter_pkt.index], inplace = True)\n",
    "        return filter_pkt"
   ]
  },
  {
   "cell_type": "code",
   "execution_count": null,
   "metadata": {
    "scrolled": false
   },
   "outputs": [],
   "source": [
    "if __name__ == '__main__':\n",
    "    #pd.set_option('display.width',1000)\n",
    "    directory = \"/home/ovs2/lining/Gearbox/manual/DropTail/\"\n",
    "    SmallDropTailDelay = DelayAnalysis(directory, 'small-out.tr')\n",
    "    SmallDropTailDelay.print_pkt_delay(12, 'small')\n",
    "    NormalDropTailDelay = DelayAnalysis(directory, 'normal-out.tr')\n",
    "    NormalDropTailDelay.print_pkt_delay(12, 'normal')\n",
    "    BigDropTailDelay = DelayAnalysis(directory, 'big-out.tr')\n",
    "    BigDropTailDelay.print_pkt_delay(12, 'big')"
   ]
  },
  {
   "cell_type": "code",
   "execution_count": null,
   "metadata": {
    "scrolled": true
   },
   "outputs": [],
   "source": [
    "if __name__=='__main__':\n",
    "    res = NormalDropTailDelay.filter_by_delay(lambda delay: (40 < delay))\n",
    "    display(res)"
   ]
  },
  {
   "cell_type": "code",
   "execution_count": null,
   "metadata": {
    "scrolled": true
   },
   "outputs": [],
   "source": [
    "if __name__ == '__main__':\n",
    "    res = NormalDropTailDelay.get_pkt_detail_by_pktid(2194)\n",
    "    display(res)"
   ]
  },
  {
   "cell_type": "markdown",
   "metadata": {},
   "source": [
    "### coding example"
   ]
  },
  {
   "cell_type": "code",
   "execution_count": null,
   "metadata": {},
   "outputs": [],
   "source": [
    "if __name__ == '__main__':\n",
    "    AFQ10folder = \"/home/ovs2/lining/Gearbox/manual/AFQ10/\"\n",
    "    AFQ10delay = DelayAnalysis(AFQ10folder, 'out.tr')\n",
    "    HRCCfolder = \"/home/ovs2/lining/Gearbox/manual/HRCC/\"\n",
    "    HRCCdelay = DelayAnalysis(HRCCfolder, 'out.tr')\n",
    "\n",
    "    drop_pkt, drop_pkt_id = AFQ10delay.dropped_pkt_and_id()\n",
    "    print(drop_pkt_id[:10], '...')\n",
    "    display(drop_pkt.head())\n",
    "\n",
    "    AFQ10delay.print_pkt_delay(12)"
   ]
  },
  {
   "cell_type": "markdown",
   "metadata": {},
   "source": [
    "### <span style=\"color:red\"> here is a problem, boundary is also included</span>."
   ]
  },
  {
   "cell_type": "code",
   "execution_count": null,
   "metadata": {
    "scrolled": false
   },
   "outputs": [],
   "source": [
    "if __name__ == '__main__':\n",
    "    # below 6 ms\n",
    "    res = AFQ10delay.filter_by_delay(lambda delay: (10 < delay) & (delay < 12))\n",
    "    display(res.head())\n",
    "    display(AFQ10delay.get_pkt_detail_by_pktid(1800))"
   ]
  },
  {
   "cell_type": "code",
   "execution_count": null,
   "metadata": {
    "scrolled": true
   },
   "outputs": [],
   "source": []
  },
  {
   "cell_type": "code",
   "execution_count": null,
   "metadata": {},
   "outputs": [],
   "source": []
  },
  {
   "cell_type": "code",
   "execution_count": null,
   "metadata": {},
   "outputs": [],
   "source": []
  }
 ],
 "metadata": {
  "kernelspec": {
   "display_name": "gearbox-venv",
   "language": "python",
   "name": "gearbox-venv"
  },
  "language_info": {
   "codemirror_mode": {
    "name": "ipython",
    "version": 3
   },
   "file_extension": ".py",
   "mimetype": "text/x-python",
   "name": "python",
   "nbconvert_exporter": "python",
   "pygments_lexer": "ipython3",
   "version": "3.5.2"
  }
 },
 "nbformat": 4,
 "nbformat_minor": 2
}

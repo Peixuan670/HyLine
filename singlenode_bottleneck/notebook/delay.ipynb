{
 "cells": [
  {
   "cell_type": "code",
   "execution_count": 7,
   "metadata": {},
   "outputs": [],
   "source": [
    "%matplotlib inline\n",
    "\n",
    "import numpy as np\n",
    "import pandas as pd\n",
    "from collections import OrderedDict\n",
    "import matplotlib.pyplot as plt"
   ]
  },
  {
   "cell_type": "code",
   "execution_count": 8,
   "metadata": {},
   "outputs": [],
   "source": [
    "class DelayAnalysis:\n",
    "\n",
    "    def __init__(self, folder):\n",
    "        self.raw_data = self.read_out_tr(folder, \"out.tr\")\n",
    "        self.tcp_pkt = self.get_tcp_packets(self.raw_data)\n",
    "        history = self.tcp_pkt.groupby('pkt_id')\n",
    "        self.duration = (history['time'].last() - history['time'].first()) * 1e6\n",
    "    def read_out_tr(self, dir, file):\n",
    "        col = [\"events\", \"time\", \"from_node\", \"to_node\", \"pkt_type\", \"pkt_size\", \"flags\", \"fid\", \"src_addr\", \"dst_addr\", \"seq_num\", \"pkt_id\"]\n",
    "        df = pd.read_csv(dir+file, sep = ' ', header = None)\n",
    "        df.columns = col\n",
    "        return df\n",
    "    \n",
    "    def get_tcp_packets(self, df):\n",
    "        df_out = df.loc[df[\"pkt_type\"].isin([\"tcp\"])]\n",
    "        return df_out\n",
    "    \n",
    "    def get_pkt_detail_by_pktid(self, id):\n",
    "        return tcp_pkt[tcp_pkt['pkt_id'] == id]\n",
    "    \n",
    "    def dropped_pkt_and_id(self):\n",
    "        history = tcp_pkt.groupby('pkt_id')\n",
    "        dropped_pkt_id = (history['events'].last() == 'd')\n",
    "        dropped_pkt_id = dropped_pkt_id[dropped_pkt_id]\n",
    "        dropped = tcp_pkt[tcp_pkt.pkt_id.isin(dropped_pkt_id.index)]\n",
    "        dropped.set_index(['pkt_id', dropped.index], inplace = True)\n",
    "        return dropped, dropped_pkt_id.index.tolist()\n",
    "    \n",
    "    def print_pkt_delay(self):\n",
    "        # ms\n",
    "        duration = self.duration\n",
    "        drop_id = self.dropped_pkt_and_id()[1]\n",
    "        plt.figure(figsize=(20, 8))\n",
    "        plt.scatter(duration.index, duration, label='received')\n",
    "        plt.xlabel('pkt_id')\n",
    "        plt.ylabel('delay(ms)')\n",
    "        plt.axhline(y=6, color='g', linestyle='-')\n",
    "        plt.scatter(duration[drop_id].index, duration[drop_id], color='r', label='drop')\n",
    "        plt.legend()\n",
    "        \n",
    "    def filter_by_delay(self, boolFunc):\n",
    "        duration = self.duration\n",
    "        filter_pkt = tcp_pkt[tcp_pkt.pkt_id.isin(duration[boolFunc].index)]\n",
    "        filter_pkt.set_index(['pkt_id', filter_pkt.index], inplace = True)\n",
    "        return filter_pkt"
   ]
  },
  {
   "cell_type": "code",
   "execution_count": 9,
   "metadata": {
    "scrolled": true
   },
   "outputs": [
    {
     "ename": "NameError",
     "evalue": "name 'tcp_pkt' is not defined",
     "output_type": "error",
     "traceback": [
      "\u001b[0;31m---------------------------------------------------------------------------\u001b[0m",
      "\u001b[0;31mNameError\u001b[0m                                 Traceback (most recent call last)",
      "\u001b[0;32m<ipython-input-9-d18cc591b8b5>\u001b[0m in \u001b[0;36m<module>\u001b[0;34m\u001b[0m\n\u001b[1;32m      1\u001b[0m \u001b[0;31m## fid\u001b[0m\u001b[0;34m\u001b[0m\u001b[0;34m\u001b[0m\u001b[0m\n\u001b[1;32m      2\u001b[0m \u001b[0mAFQ10folder\u001b[0m \u001b[0;34m=\u001b[0m \u001b[0;34m\"/home/ovs2/lining/manual/AFQ10/\"\u001b[0m\u001b[0;34m\u001b[0m\u001b[0m\n\u001b[0;32m----> 3\u001b[0;31m \u001b[0mAFQ10delay\u001b[0m \u001b[0;34m=\u001b[0m \u001b[0mDelayAnalysis\u001b[0m\u001b[0;34m(\u001b[0m\u001b[0mAFQ10folder\u001b[0m\u001b[0;34m)\u001b[0m\u001b[0;34m\u001b[0m\u001b[0m\n\u001b[0m\u001b[1;32m      4\u001b[0m \u001b[0mHRCCfolder\u001b[0m \u001b[0;34m=\u001b[0m \u001b[0;34m\"/home/ovs2/lining/manual/HRCC/\"\u001b[0m\u001b[0;34m\u001b[0m\u001b[0m\n\u001b[1;32m      5\u001b[0m \u001b[0mHRCCdelay\u001b[0m \u001b[0;34m=\u001b[0m \u001b[0mDelayAnalysis\u001b[0m\u001b[0;34m(\u001b[0m\u001b[0mHRCCfolder\u001b[0m\u001b[0;34m)\u001b[0m\u001b[0;34m\u001b[0m\u001b[0m\n",
      "\u001b[0;32m<ipython-input-8-9533c64372d5>\u001b[0m in \u001b[0;36m__init__\u001b[0;34m(self, folder)\u001b[0m\n\u001b[1;32m      4\u001b[0m         \u001b[0mself\u001b[0m\u001b[0;34m.\u001b[0m\u001b[0mraw_data\u001b[0m \u001b[0;34m=\u001b[0m \u001b[0mself\u001b[0m\u001b[0;34m.\u001b[0m\u001b[0mread_out_tr\u001b[0m\u001b[0;34m(\u001b[0m\u001b[0mfolder\u001b[0m\u001b[0;34m,\u001b[0m \u001b[0;34m\"out.tr\"\u001b[0m\u001b[0;34m)\u001b[0m\u001b[0;34m\u001b[0m\u001b[0m\n\u001b[1;32m      5\u001b[0m         \u001b[0mself\u001b[0m\u001b[0;34m.\u001b[0m\u001b[0mtcp_pkt\u001b[0m \u001b[0;34m=\u001b[0m \u001b[0mself\u001b[0m\u001b[0;34m.\u001b[0m\u001b[0mget_tcp_packets\u001b[0m\u001b[0;34m(\u001b[0m\u001b[0mself\u001b[0m\u001b[0;34m.\u001b[0m\u001b[0mraw_data\u001b[0m\u001b[0;34m)\u001b[0m\u001b[0;34m\u001b[0m\u001b[0m\n\u001b[0;32m----> 6\u001b[0;31m         \u001b[0mhistory\u001b[0m \u001b[0;34m=\u001b[0m \u001b[0mtcp_pkt\u001b[0m\u001b[0;34m.\u001b[0m\u001b[0mgroupby\u001b[0m\u001b[0;34m(\u001b[0m\u001b[0;34m'pkt_id'\u001b[0m\u001b[0;34m)\u001b[0m\u001b[0;34m\u001b[0m\u001b[0m\n\u001b[0m\u001b[1;32m      7\u001b[0m         \u001b[0mself\u001b[0m\u001b[0;34m.\u001b[0m\u001b[0mduration\u001b[0m \u001b[0;34m=\u001b[0m \u001b[0;34m(\u001b[0m\u001b[0mhistory\u001b[0m\u001b[0;34m[\u001b[0m\u001b[0;34m'time'\u001b[0m\u001b[0;34m]\u001b[0m\u001b[0;34m.\u001b[0m\u001b[0mlast\u001b[0m\u001b[0;34m(\u001b[0m\u001b[0;34m)\u001b[0m \u001b[0;34m-\u001b[0m \u001b[0mhistory\u001b[0m\u001b[0;34m[\u001b[0m\u001b[0;34m'time'\u001b[0m\u001b[0;34m]\u001b[0m\u001b[0;34m.\u001b[0m\u001b[0mfirst\u001b[0m\u001b[0;34m(\u001b[0m\u001b[0;34m)\u001b[0m\u001b[0;34m)\u001b[0m \u001b[0;34m*\u001b[0m \u001b[0;36m1e6\u001b[0m\u001b[0;34m\u001b[0m\u001b[0m\n\u001b[1;32m      8\u001b[0m     \u001b[0;32mdef\u001b[0m \u001b[0mread_out_tr\u001b[0m\u001b[0;34m(\u001b[0m\u001b[0mself\u001b[0m\u001b[0;34m,\u001b[0m \u001b[0mdir\u001b[0m\u001b[0;34m,\u001b[0m \u001b[0mfile\u001b[0m\u001b[0;34m)\u001b[0m\u001b[0;34m:\u001b[0m\u001b[0;34m\u001b[0m\u001b[0m\n",
      "\u001b[0;31mNameError\u001b[0m: name 'tcp_pkt' is not defined"
     ]
    }
   ],
   "source": [
    "## fid \n",
    "AFQ10folder = \"/home/ovs2/lining/manual/AFQ10/\"\n",
    "AFQ10delay = DelayAnalysis(AFQ10folder)\n",
    "HRCCfolder = \"/home/ovs2/lining/manual/HRCC/\"\n",
    "HRCCdelay = DelayAnalysis(HRCCfolder)"
   ]
  },
  {
   "cell_type": "code",
   "execution_count": null,
   "metadata": {
    "scrolled": true
   },
   "outputs": [],
   "source": [
    "drop_pkt, drop_pkt_id = AFQ10delay.dropped_pkt_and_id()\n",
    "print(drop_pkt_id[:10], '...')\n",
    "drop_pkt.head()"
   ]
  },
  {
   "cell_type": "code",
   "execution_count": null,
   "metadata": {
    "scrolled": false
   },
   "outputs": [],
   "source": [
    "AFQ10delay.print_pkt_delay()"
   ]
  },
  {
   "cell_type": "markdown",
   "metadata": {},
   "source": [
    "### <span style=\"color:red\"> here is a problem, boundary is also included</span>."
   ]
  },
  {
   "cell_type": "code",
   "execution_count": null,
   "metadata": {},
   "outputs": [],
   "source": []
  },
  {
   "cell_type": "code",
   "execution_count": null,
   "metadata": {
    "scrolled": false
   },
   "outputs": [],
   "source": [
    "# below 6 ms\n",
    "res = AFQ10delay.filter_by_delay(lambda delay: (10 < delay) & (delay < 12))\n",
    "res.head()"
   ]
  },
  {
   "cell_type": "code",
   "execution_count": null,
   "metadata": {
    "scrolled": true
   },
   "outputs": [],
   "source": [
    "AFQ10delay.get_pkt_detail_by_pktid(1800)"
   ]
  },
  {
   "cell_type": "code",
   "execution_count": null,
   "metadata": {},
   "outputs": [],
   "source": []
  }
 ],
 "metadata": {
  "kernelspec": {
   "display_name": "gearbox-venv",
   "language": "python",
   "name": "gearbox-venv"
  },
  "language_info": {
   "codemirror_mode": {
    "name": "ipython",
    "version": 3
   },
   "file_extension": ".py",
   "mimetype": "text/x-python",
   "name": "python",
   "nbconvert_exporter": "python",
   "pygments_lexer": "ipython3",
   "version": "3.5.2"
  }
 },
 "nbformat": 4,
 "nbformat_minor": 2
}

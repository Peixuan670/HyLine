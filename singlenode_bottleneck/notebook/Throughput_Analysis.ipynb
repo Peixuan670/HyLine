{
 "cells": [
  {
   "cell_type": "markdown",
   "metadata": {},
   "source": [
    "### Gearbox single node throughput analysis \n",
    "#### Peixuan 02052020\n"
   ]
  },
  {
   "cell_type": "code",
   "execution_count": 1,
   "metadata": {},
   "outputs": [],
   "source": [
    "%matplotlib inline\n",
    "\n",
    "import numpy as np\n",
    "import pandas as pd\n",
    "from collections import OrderedDict\n",
    "import matplotlib.pyplot as plt\n",
    "from datetime import timedelta"
   ]
  },
  {
   "cell_type": "code",
   "execution_count": 78,
   "metadata": {},
   "outputs": [],
   "source": [
    "class DelayAnalysis:\n",
    "\n",
    "    def __init__(self, folder, file):\n",
    "        self.raw_data = self.read_out_tr(folder, file)\n",
    "        self.tcp_pkt = self.get_tcp_packets(self.raw_data)\n",
    "        history = self.tcp_pkt.groupby('pkt_id')\n",
    "        self.duration = (history['time'].last() - history['time'].first()) * 1e6\n",
    "    def read_out_tr(self, dir, file):\n",
    "        col = [\"events\", \"time\", \"from_node\", \"to_node\", \"pkt_type\", \"pkt_size\", \"flags\", \"fid\", \"src_addr\", \"dst_addr\", \"seq_num\", \"pkt_id\"]\n",
    "        df = pd.read_csv(dir+file, sep = ' ', header = None)\n",
    "        df.columns = col\n",
    "        return df\n",
    "    \n",
    "    def get_tcp_packets(self, df):\n",
    "        df_out = df.loc[df[\"pkt_type\"].isin([\"tcp\"])]\n",
    "        return df_out\n",
    "    \n",
    "    def get_pkt_detail_by_pktid(self, id):\n",
    "        return self.tcp_pkt[tcp_pkt['pkt_id'] == id]\n",
    "    \n",
    "    def dropped_pkt_and_id(self):\n",
    "        history = self.tcp_pkt.groupby('pkt_id')\n",
    "        dropped_pkt_id = (history['events'].last() == 'd')\n",
    "        dropped_pkt_id = dropped_pkt_id[dropped_pkt_id]\n",
    "        dropped = self.tcp_pkt[self.tcp_pkt.pkt_id.isin(dropped_pkt_id.index)]\n",
    "        dropped.set_index(['pkt_id', dropped.index], inplace = True)\n",
    "        return dropped, dropped_pkt_id.index.tolist()\n",
    "    \n",
    "    def print_pkt_delay(self, rtt):\n",
    "        # us\n",
    "        duration = self.duration\n",
    "        drop_id = self.dropped_pkt_and_id()[1]\n",
    "        #plt.figure(figsize=(20, 8))\n",
    "        plt.scatter(duration.index, duration, label='received')\n",
    "        plt.xlabel('pkt_id')\n",
    "        plt.ylabel('delay(ms)')\n",
    "        plt.axhline(y=rtt/2, color='g', linestyle='-')\n",
    "        plt.scatter(duration[drop_id].index, duration[drop_id], color='r', label='drop')\n",
    "        plt.legend()\n",
    "        \n",
    "    def filter_by_delay(self, boolFunc):\n",
    "        duration = self.duration\n",
    "        filter_pkt = tcp_pkt[tcp_pkt.pkt_id.isin(duration[boolFunc].index)]\n",
    "        filter_pkt.set_index(['pkt_id', filter_pkt.index], inplace = True)\n",
    "        return filter_pkt"
   ]
  },
  {
   "cell_type": "code",
   "execution_count": 2,
   "metadata": {},
   "outputs": [],
   "source": [
    "def read_out_tr(dir, file):\n",
    "    col = [\"events\", \"time\", \"from_node\", \"to_node\", \"pkt_type\", \"pkt_size\", \"flags\", \"fid\", \"src_addr\", \"dst_addr\", \"seq_num\", \"pkt_id\"]\n",
    "    df = pd.read_csv(dir+file, sep = ' ', header = None)\n",
    "    df.columns = col\n",
    "    return df"
   ]
  },
  {
   "cell_type": "code",
   "execution_count": 3,
   "metadata": {},
   "outputs": [],
   "source": [
    "def get_received_packets(df, node):\n",
    "    # Getting the reveived tcp pkts at the receiving node\n",
    "    # node: the number of the receiving node\n",
    "    df_out = df.loc[df[\"events\"].isin([\"r\"])]\n",
    "    df_out = df_out.loc[df_out[\"pkt_type\"].isin([\"tcp\"])]\n",
    "    df_out = df_out.loc[df_out[\"to_node\"].isin([node])]\n",
    "    return df_out"
   ]
  },
  {
   "cell_type": "code",
   "execution_count": 4,
   "metadata": {},
   "outputs": [],
   "source": [
    "def get_flow_received_packets(df, node, flow_src):\n",
    "    # Getting the reveived tcp pkts at the receiving node of a certain flow\n",
    "    # node: the number of the receiving node\n",
    "    # flow_src: the src node of such flow (node.port)\n",
    "    df_out = df.loc[df[\"events\"].isin([\"r\"])]\n",
    "    df_out = df_out.loc[df_out[\"pkt_type\"].isin([\"tcp\"])]\n",
    "    df_out = df_out.loc[df_out[\"to_node\"].isin([node])]\n",
    "    df_out = df_out.loc[df_out[\"src_addr\"].isin([flow_src])]\n",
    "    return df_out"
   ]
  },
  {
   "cell_type": "code",
   "execution_count": 5,
   "metadata": {},
   "outputs": [],
   "source": [
    "# Not useful\n",
    "def plot_average_throughput(df_out_tr, start_time, node):\n",
    "    df_out_rec = get_received_packets(df_out_tr, node)\n",
    "    df_out_rec['data_amount'] = df_out_rec['pkt_size'].cumsum()\n",
    "    plt.plot(df_out_rec['time'], df_out_rec['data_amount']*8/(df_out_rec['time']-start_time), color='red', label='average_th')"
   ]
  },
  {
   "cell_type": "code",
   "execution_count": 6,
   "metadata": {},
   "outputs": [],
   "source": [
    "# Not useful\n",
    "def plot_flow_average_throughput(df_out_tr, start_time, flow_src, node):\n",
    "    df_out_rec = get_flow_received_packets(df_out_tr, flow_src, node)\n",
    "    df_out_rec['data_amount'] = df_out_rec['pkt_size'].cumsum()\n",
    "    plt.plot(df_out_rec['time'], df_out_rec['data_amount']*8/(df_out_rec['time']-start_time), color='red', label='average_th')"
   ]
  },
  {
   "cell_type": "code",
   "execution_count": 7,
   "metadata": {},
   "outputs": [],
   "source": [
    "# Short-term throughput by Lining\n",
    "def plot_short_th(df_out_tr, window_size, node):\n",
    "    # Getting the short-term throughput in a cirtain window size\n",
    "    # node: the number of the receiving node\n",
    "    # window_size: the jumping window size observing the short-term window size (in us)\n",
    "    r_event_in_dst = get_received_packets(df_out_tr, node)\n",
    "    \n",
    "    r_event_in_dst['ts'] = r_event_in_dst['time'].apply(lambda x: pd.Timedelta(x,unit='s'))\n",
    "    \n",
    "    grouped=r_event_in_dst.groupby('fid')\n",
    "    \n",
    "    pkt_size_series = pd.Series(r_event_in_dst['pkt_size'], index=r_event_in_dst['ts'])\n",
    "    \n",
    "    # H       hourly frequency\n",
    "    # T, min  minutely frequency\n",
    "    # S       secondly frequency\n",
    "    # L, ms   milliseonds\n",
    "    # U, us   microseconds\n",
    "    # N       nanoseconds\n",
    "\n",
    "    shortTh = grouped[['ts', 'pkt_size']].resample(str(window_size) + 'U', on='ts').sum()\n",
    "    # Gbps\n",
    "    shortTh['throughtput'] = shortTh['pkt_size']*8 / (window_size * 1e-6) / 1000 / 1000 / 1000\n",
    "    ##shortTh.head()\n",
    "    res = shortTh[['throughtput']].unstack()['throughtput'].T\n",
    "    res.index = res.index / timedelta(seconds=1)\n",
    "    res.plot(kind='line', legend=True, title='shortTh')\n",
    "    plt.xlabel('time')\n",
    "    plt.ylabel('throughput (GB)')\n",
    "    plt.show()"
   ]
  },
  {
   "cell_type": "code",
   "execution_count": 45,
   "metadata": {},
   "outputs": [],
   "source": [
    "# Monitoring queue length by Mengqi\n",
    "def get_src_packets(df, switch):\n",
    "    # get all the tcp pkts (Modified by Peixuan)\n",
    "    df = df.loc[df[\"events\"].isin([\"+\", \"-\"])]\n",
    "    df = df.loc[df[\"pkt_type\"].isin([\"tcp\"])]\n",
    "    df = df.loc[df[\"from_node\"].isin([switch])]\n",
    "    return df\n",
    "\n",
    "def sort_by_time(df):    \n",
    "    df = df.sort_values(by=[\"time\", \"events\"])\n",
    "    return df\n",
    "\n",
    "def plot(df):\n",
    "    plt.figure(figsize=(8,5))\n",
    "    #plt.plot(x,y,\"b--\",linewidth=1)   #在当前绘图对象绘图（X轴，Y轴，蓝色虚线，线宽度）\n",
    "    plt.xlabel(\"Time\")\n",
    "    plt.ylabel(\"Queue Length\")\n",
    "    #plt.xscale('log')\n",
    "    plt.title(\"Real Time Queue Length\")    \n",
    "    #line0 = plt.plot(df[\"time\"][200:500], df[\"queue_len\"][200:500], color='red', markersize = 12)\n",
    "    line0 = plt.plot(df[\"time\"], df[\"queue_len\"], color='red')\n",
    "\n",
    "    plt.legend(loc='best')\n",
    "    plt.show()\n",
    "\n",
    "def cal_queue_len(df_out_tr, switch):\n",
    "    df_queue = get_src_packets(df_out_tr, switch)\n",
    "    df_queue = sort_by_time(df_queue)\n",
    "    pktCount = 0\n",
    "    queue_len = []\n",
    "    for index, row in df_queue.iterrows():\n",
    "        if row[\"events\"] == '-': \n",
    "            pktCount -= 1\n",
    "            queue_len.append(pktCount)\n",
    "        if row[\"events\"] == '+':\n",
    "            pktCount += 1\n",
    "            queue_len.append(pktCount)\n",
    "    df_queue[\"queue_len\"] = queue_len\n",
    "    plot(df_queue)\n",
    "    \n",
    "    #return df_sort"
   ]
  },
  {
   "cell_type": "code",
   "execution_count": 74,
   "metadata": {},
   "outputs": [],
   "source": [
    "dir = \"/home/ovs3/PeixuanGaoWorkspace/Hyline/HyLine/microbenchmark/ns2-simulation/06_single_flow_simulation/\"\n",
    "file = \"out.tr\""
   ]
  },
  {
   "cell_type": "code",
   "execution_count": 62,
   "metadata": {},
   "outputs": [],
   "source": [
    "df_out_tr = read_out_tr(dir, file)"
   ]
  },
  {
   "cell_type": "code",
   "execution_count": 63,
   "metadata": {},
   "outputs": [
    {
     "data": {
      "image/png": "[encoded data removed]",
      "text/plain": [
       "<Figure size 432x288 with 1 Axes>"
      ]
     },
     "metadata": {
      "needs_background": "light"
     },
     "output_type": "display_data"
    }
   ],
   "source": [
    "plot_average_throughput(df_out_tr, 0.0001, 5)"
   ]
  },
  {
   "cell_type": "code",
   "execution_count": 64,
   "metadata": {},
   "outputs": [
    {
     "data": {
      "image/png": "[encoded data removed]",
      "text/plain": [
       "<Figure size 432x288 with 1 Axes>"
      ]
     },
     "metadata": {
      "needs_background": "light"
     },
     "output_type": "display_data"
    }
   ],
   "source": [
    "plot_short_th(df_out_tr, 12, 5)"
   ]
  },
  {
   "cell_type": "code",
   "execution_count": 65,
   "metadata": {},
   "outputs": [
    {
     "name": "stderr",
     "output_type": "stream",
     "text": [
      "No handles with labels found to put in legend.\n"
     ]
    },
    {
     "data": {
      "image/png": "[encoded data removed]",
      "text/plain": [
       "<Figure size 576x360 with 1 Axes>"
      ]
     },
     "metadata": {
      "needs_background": "light"
     },
     "output_type": "display_data"
    }
   ],
   "source": [
    "cal_queue_len(df_out_tr, 4)"
   ]
  },
  {
   "cell_type": "code",
   "execution_count": 79,
   "metadata": {},
   "outputs": [],
   "source": [
    "delayAnalysis = DelayAnalysis(dir, file)"
   ]
  },
  {
   "cell_type": "code",
   "execution_count": 72,
   "metadata": {},
   "outputs": [
    {
     "data": {
      "text/plain": [
       "<pandas.core.groupby.generic.SeriesGroupBy object at 0x7ff28a1894a8>"
      ]
     },
     "execution_count": 72,
     "metadata": {},
     "output_type": "execute_result"
    }
   ],
   "source": [
    "gb['time']"
   ]
  },
  {
   "cell_type": "code",
   "execution_count": null,
   "metadata": {},
   "outputs": [],
   "source": []
  }
 ],
 "metadata": {
  "kernelspec": {
   "display_name": "Python 3",
   "language": "python",
   "name": "python3"
  },
  "language_info": {
   "codemirror_mode": {
    "name": "ipython",
    "version": 3
   },
   "file_extension": ".py",
   "mimetype": "text/x-python",
   "name": "python",
   "nbconvert_exporter": "python",
   "pygments_lexer": "ipython3",
   "version": "3.7.3"
  }
 },
 "nbformat": 4,
 "nbformat_minor": 2
}

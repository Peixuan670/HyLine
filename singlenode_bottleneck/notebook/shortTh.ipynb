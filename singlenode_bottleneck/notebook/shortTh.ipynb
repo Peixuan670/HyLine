{
 "cells": [
  {
   "cell_type": "code",
   "execution_count": 1,
   "metadata": {},
   "outputs": [],
   "source": [
    "%matplotlib inline\n",
    "\n",
    "import numpy as np\n",
    "import pandas as pd\n",
    "from collections import OrderedDict\n",
    "import matplotlib.pyplot as plt\n",
    "from datetime import timedelta"
   ]
  },
  {
   "cell_type": "code",
   "execution_count": 2,
   "metadata": {},
   "outputs": [],
   "source": [
    "folder = \"/home/ovs2/lining/manual/AFQ10/\"\n",
    "starttime = 0\n",
    "dt = 0.012"
   ]
  },
  {
   "cell_type": "code",
   "execution_count": 3,
   "metadata": {},
   "outputs": [],
   "source": [
    "def read_out_tr(dir, file):\n",
    "    col = [\"events\", \"time\", \"from_node\", \"to_node\", \"pkt_type\", \"pkt_size\", \"flags\", \"fid\", \"src_addr\", \"dst_addr\", \"seq_num\", \"pkt_id\"]\n",
    "    df = pd.read_csv(dir+file, sep = ' ', header = None)\n",
    "    df.columns = col\n",
    "    return df"
   ]
  },
  {
   "cell_type": "code",
   "execution_count": 4,
   "metadata": {},
   "outputs": [],
   "source": [
    "def get_receive_packets(df):\n",
    "    df_out = df.loc[df[\"events\"].isin([\"r\"])]\n",
    "    df_out = df_out.loc[df_out[\"pkt_type\"].isin([\"tcp\"])]\n",
    "    df_out = df_out.loc[df_out[\"to_node\"].isin([35])]\n",
    "    return df_out"
   ]
  },
  {
   "cell_type": "code",
   "execution_count": 5,
   "metadata": {},
   "outputs": [],
   "source": [
    "raw_data = read_out_tr(folder, \"out.tr\")\n",
    "r_event_in_dst = get_receive_packets(raw_data)"
   ]
  },
  {
   "cell_type": "code",
   "execution_count": 6,
   "metadata": {},
   "outputs": [
    {
     "data": {
      "text/html": [
       "<div>\n",
       "<style scoped>\n",
       "    .dataframe tbody tr th:only-of-type {\n",
       "        vertical-align: middle;\n",
       "    }\n",
       "\n",
       "    .dataframe tbody tr th {\n",
       "        vertical-align: top;\n",
       "    }\n",
       "\n",
       "    .dataframe thead th {\n",
       "        text-align: right;\n",
       "    }\n",
       "</style>\n",
       "<table border=\"1\" class=\"dataframe\">\n",
       "  <thead>\n",
       "    <tr style=\"text-align: right;\">\n",
       "      <th></th>\n",
       "      <th>events</th>\n",
       "      <th>time</th>\n",
       "      <th>from_node</th>\n",
       "      <th>to_node</th>\n",
       "      <th>pkt_type</th>\n",
       "      <th>pkt_size</th>\n",
       "      <th>flags</th>\n",
       "      <th>fid</th>\n",
       "      <th>src_addr</th>\n",
       "      <th>dst_addr</th>\n",
       "      <th>seq_num</th>\n",
       "      <th>pkt_id</th>\n",
       "    </tr>\n",
       "  </thead>\n",
       "  <tbody>\n",
       "    <tr>\n",
       "      <th>5171</th>\n",
       "      <td>r</td>\n",
       "      <td>1.005601</td>\n",
       "      <td>19</td>\n",
       "      <td>35</td>\n",
       "      <td>tcp</td>\n",
       "      <td>40</td>\n",
       "      <td>C--A---</td>\n",
       "      <td>7</td>\n",
       "      <td>23.0</td>\n",
       "      <td>35.3</td>\n",
       "      <td>0</td>\n",
       "      <td>1718</td>\n",
       "    </tr>\n",
       "    <tr>\n",
       "      <th>5224</th>\n",
       "      <td>r</td>\n",
       "      <td>1.005613</td>\n",
       "      <td>19</td>\n",
       "      <td>35</td>\n",
       "      <td>tcp</td>\n",
       "      <td>40</td>\n",
       "      <td>------N</td>\n",
       "      <td>7</td>\n",
       "      <td>23.0</td>\n",
       "      <td>35.3</td>\n",
       "      <td>1</td>\n",
       "      <td>1720</td>\n",
       "    </tr>\n",
       "    <tr>\n",
       "      <th>5225</th>\n",
       "      <td>r</td>\n",
       "      <td>1.005614</td>\n",
       "      <td>19</td>\n",
       "      <td>35</td>\n",
       "      <td>tcp</td>\n",
       "      <td>1500</td>\n",
       "      <td>------N</td>\n",
       "      <td>7</td>\n",
       "      <td>23.0</td>\n",
       "      <td>35.3</td>\n",
       "      <td>1</td>\n",
       "      <td>1721</td>\n",
       "    </tr>\n",
       "    <tr>\n",
       "      <th>5278</th>\n",
       "      <td>r</td>\n",
       "      <td>1.005627</td>\n",
       "      <td>19</td>\n",
       "      <td>35</td>\n",
       "      <td>tcp</td>\n",
       "      <td>1500</td>\n",
       "      <td>------N</td>\n",
       "      <td>7</td>\n",
       "      <td>23.0</td>\n",
       "      <td>35.3</td>\n",
       "      <td>1461</td>\n",
       "      <td>1723</td>\n",
       "    </tr>\n",
       "    <tr>\n",
       "      <th>5281</th>\n",
       "      <td>r</td>\n",
       "      <td>1.005627</td>\n",
       "      <td>19</td>\n",
       "      <td>35</td>\n",
       "      <td>tcp</td>\n",
       "      <td>1500</td>\n",
       "      <td>------N</td>\n",
       "      <td>7</td>\n",
       "      <td>23.0</td>\n",
       "      <td>35.3</td>\n",
       "      <td>2921</td>\n",
       "      <td>1724</td>\n",
       "    </tr>\n",
       "  </tbody>\n",
       "</table>\n",
       "</div>"
      ],
      "text/plain": [
       "     events      time  from_node  to_node pkt_type  pkt_size    flags  fid  \\\n",
       "5171      r  1.005601         19       35      tcp        40  C--A---    7   \n",
       "5224      r  1.005613         19       35      tcp        40  ------N    7   \n",
       "5225      r  1.005614         19       35      tcp      1500  ------N    7   \n",
       "5278      r  1.005627         19       35      tcp      1500  ------N    7   \n",
       "5281      r  1.005627         19       35      tcp      1500  ------N    7   \n",
       "\n",
       "      src_addr  dst_addr  seq_num  pkt_id  \n",
       "5171      23.0      35.3        0    1718  \n",
       "5224      23.0      35.3        1    1720  \n",
       "5225      23.0      35.3        1    1721  \n",
       "5278      23.0      35.3     1461    1723  \n",
       "5281      23.0      35.3     2921    1724  "
      ]
     },
     "execution_count": 6,
     "metadata": {},
     "output_type": "execute_result"
    }
   ],
   "source": [
    "r_event_in_dst.head()"
   ]
  },
  {
   "cell_type": "code",
   "execution_count": 7,
   "metadata": {
    "scrolled": true
   },
   "outputs": [],
   "source": [
    "r_event_in_dst['ts'] = r_event_in_dst['time'].apply(lambda x: pd.Timedelta(x,unit='s'))"
   ]
  },
  {
   "cell_type": "code",
   "execution_count": 8,
   "metadata": {},
   "outputs": [],
   "source": [
    "grouped=r_event_in_dst.groupby('fid')"
   ]
  },
  {
   "cell_type": "code",
   "execution_count": 9,
   "metadata": {},
   "outputs": [],
   "source": [
    "pkt_size_series = pd.Series(r_event_in_dst['pkt_size'], index=r_event_in_dst['ts'])"
   ]
  },
  {
   "cell_type": "code",
   "execution_count": 10,
   "metadata": {
    "scrolled": true
   },
   "outputs": [
    {
     "data": {
      "text/html": [
       "<div>\n",
       "<style scoped>\n",
       "    .dataframe tbody tr th:only-of-type {\n",
       "        vertical-align: middle;\n",
       "    }\n",
       "\n",
       "    .dataframe tbody tr th {\n",
       "        vertical-align: top;\n",
       "    }\n",
       "\n",
       "    .dataframe thead th {\n",
       "        text-align: right;\n",
       "    }\n",
       "</style>\n",
       "<table border=\"1\" class=\"dataframe\">\n",
       "  <thead>\n",
       "    <tr style=\"text-align: right;\">\n",
       "      <th></th>\n",
       "      <th></th>\n",
       "      <th>pkt_size</th>\n",
       "      <th>throughtput</th>\n",
       "    </tr>\n",
       "    <tr>\n",
       "      <th>fid</th>\n",
       "      <th>ts</th>\n",
       "      <th></th>\n",
       "      <th></th>\n",
       "    </tr>\n",
       "  </thead>\n",
       "  <tbody>\n",
       "    <tr>\n",
       "      <th rowspan=\"5\" valign=\"top\">7</th>\n",
       "      <th>00:00:01.005601</th>\n",
       "      <td>40</td>\n",
       "      <td>0.026667</td>\n",
       "    </tr>\n",
       "    <tr>\n",
       "      <th>00:00:01.005613</th>\n",
       "      <td>1540</td>\n",
       "      <td>1.026667</td>\n",
       "    </tr>\n",
       "    <tr>\n",
       "      <th>00:00:01.005625</th>\n",
       "      <td>3000</td>\n",
       "      <td>2.000000</td>\n",
       "    </tr>\n",
       "    <tr>\n",
       "      <th>00:00:01.005637</th>\n",
       "      <td>6000</td>\n",
       "      <td>4.000000</td>\n",
       "    </tr>\n",
       "    <tr>\n",
       "      <th>00:00:01.005649</th>\n",
       "      <td>12000</td>\n",
       "      <td>8.000000</td>\n",
       "    </tr>\n",
       "  </tbody>\n",
       "</table>\n",
       "</div>"
      ],
      "text/plain": [
       "                     pkt_size  throughtput\n",
       "fid ts                                    \n",
       "7   00:00:01.005601        40     0.026667\n",
       "    00:00:01.005613      1540     1.026667\n",
       "    00:00:01.005625      3000     2.000000\n",
       "    00:00:01.005637      6000     4.000000\n",
       "    00:00:01.005649     12000     8.000000"
      ]
     },
     "execution_count": 10,
     "metadata": {},
     "output_type": "execute_result"
    }
   ],
   "source": [
    "# H       hourly frequency\n",
    "# T, min  minutely frequency\n",
    "# S       secondly frequency\n",
    "# L, ms   milliseonds\n",
    "# U, us   microseconds\n",
    "# N       nanoseconds\n",
    "microseconds = 12\n",
    "shortTh = grouped[['ts', 'pkt_size']].resample(str(microseconds) + 'U', on='ts').sum()\n",
    "# GB\n",
    "shortTh['throughtput'] = shortTh['pkt_size'] * 8 / (microseconds * 1e-6) / 1000 / 1000 / 1000\n",
    "shortTh.head()"
   ]
  },
  {
   "cell_type": "code",
   "execution_count": 11,
   "metadata": {
    "scrolled": true
   },
   "outputs": [],
   "source": [
    "res = shortTh[['throughtput']].unstack()['throughtput'].T\n",
    "res.index = res.index / timedelta(seconds=1)"
   ]
  },
  {
   "cell_type": "code",
   "execution_count": 12,
   "metadata": {},
   "outputs": [
    {
     "data": {
      "image/png": "[encoded data removed]",
      "text/plain": [
       "<Figure size 1440x576 with 1 Axes>"
      ]
     },
     "metadata": {
      "needs_background": "light"
     },
     "output_type": "display_data"
    }
   ],
   "source": [
    "res.plot(kind='line', legend=True, title='shortTh', figsize=(20,8))\n",
    "plt.xlabel('time')\n",
    "plt.ylabel('throughput (Gbps)')\n",
    "plt.show()"
   ]
  },
  {
   "cell_type": "code",
   "execution_count": null,
   "metadata": {},
   "outputs": [],
   "source": []
  }
 ],
 "metadata": {
  "kernelspec": {
   "display_name": "gearbox-venv",
   "language": "python",
   "name": "gearbox-venv"
  },
  "language_info": {
   "codemirror_mode": {
    "name": "ipython",
    "version": 3
   },
   "file_extension": ".py",
   "mimetype": "text/x-python",
   "name": "python",
   "nbconvert_exporter": "python",
   "pygments_lexer": "ipython3",
   "version": "3.5.2"
  }
 },
 "nbformat": 4,
 "nbformat_minor": 2
}
